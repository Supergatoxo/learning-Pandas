{
 "cells": [
  {
   "cell_type": "code",
   "execution_count": 1,
   "metadata": {},
   "outputs": [
    {
     "name": "stdout",
     "output_type": "stream",
     "text": [
      "@    2\n",
      "A    3\n",
      "B    4\n",
      "C    5\n",
      "7    6\n",
      "dtype: int64\n",
      "@    2\n",
      "A    3\n",
      "B    4\n",
      "dtype: int64\n",
      "iloc:\n",
      "A    3\n",
      "B    4\n",
      "dtype: int64\n",
      "A    3\n",
      "B    4\n",
      "C    5\n",
      "dtype: int64\n",
      "count    5.000000\n",
      "mean     4.000000\n",
      "std      1.581139\n",
      "min      2.000000\n",
      "25%      3.000000\n",
      "50%      4.000000\n",
      "75%      5.000000\n",
      "max      6.000000\n",
      "dtype: float64\n",
      "C    5\n",
      "7    6\n",
      "dtype: int64\n"
     ]
    }
   ],
   "source": [
    "import pandas as pitillo\n",
    "\n",
    "a=[2,3,4,5,6]\n",
    "\n",
    "serie=pitillo.Series(a,index=['@','A','B','C',7])\n",
    "\n",
    "print(serie)\n",
    "print(serie[:3])\n",
    "print(\"iloc:\")\n",
    "print(serie.iloc[1:3])\n",
    "print(serie.loc['A':'C'])\n",
    "print(serie.describe())\n",
    "\n",
    "print(serie[serie>4])\n"
   ]
  },
  {
   "cell_type": "markdown",
   "metadata": {},
   "source": [
    "mensaje desde operador 1"
   ]
  },
  {
   "cell_type": "code",
   "execution_count": null,
   "metadata": {},
   "outputs": [],
   "source": [
    "mensaje desde operador2\n"
   ]
  }
 ],
 "metadata": {
  "interpreter": {
   "hash": "ad6b12db9c7b04535438dad122085103f41898ad3b6910f0c6189839f8043371"
  },
  "kernelspec": {
   "display_name": "Python 3.8.2 32-bit",
   "language": "python",
   "name": "python3"
  },
  "language_info": {
   "codemirror_mode": {
    "name": "ipython",
    "version": 3
   },
   "file_extension": ".py",
   "mimetype": "text/x-python",
   "name": "python",
   "nbconvert_exporter": "python",
   "pygments_lexer": "ipython3",
   "version": "3.8.2"
  },
  "orig_nbformat": 4
 },
 "nbformat": 4,
 "nbformat_minor": 2
}
