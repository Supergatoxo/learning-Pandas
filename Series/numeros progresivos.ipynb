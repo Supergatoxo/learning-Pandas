{
 "cells": [
  {
   "cell_type": "code",
   "execution_count": 20,
   "metadata": {},
   "outputs": [
    {
     "name": "stdout",
     "output_type": "stream",
     "text": [
      "C:\\Users\\Jorge Apaza\\Desktop\n",
      "C:\\Users\\Jorge Apaza\\Desktop\n",
      "[611, 612, 613, 614, 615, 616, 617, 618, 619, 620, 621, 622, 623, 624, 625, 626, 627, 628, 629, 630]\n",
      "['00611/2022', '00612/2022', '00613/2022', '00614/2022', '00615/2022', '00616/2022', '00617/2022', '00618/2022', '00619/2022', '00620/2022', '00621/2022', '00622/2022', '00623/2022', '00624/2022', '00625/2022', '00626/2022', '00627/2022', '00628/2022', '00629/2022', '00630/2022']\n",
      "0     00611/2022\n",
      "1     00612/2022\n",
      "2     00613/2022\n",
      "3     00614/2022\n",
      "4     00615/2022\n",
      "5     00616/2022\n",
      "6     00617/2022\n",
      "7     00618/2022\n",
      "8     00619/2022\n",
      "9     00620/2022\n",
      "10    00621/2022\n",
      "11    00622/2022\n",
      "12    00623/2022\n",
      "13    00624/2022\n",
      "14    00625/2022\n",
      "15    00626/2022\n",
      "16    00627/2022\n",
      "17    00628/2022\n",
      "18    00629/2022\n",
      "19    00630/2022\n",
      "dtype: object\n"
     ]
    }
   ],
   "source": [
    "import pandas as pd\n",
    "import os\n",
    "\n",
    "print(os.getcwd())\n",
    "\n",
    "os.chdir(r'C:\\Users\\Jorge Apaza\\Desktop')\n",
    "print(os.getcwd())\n",
    "a=[]\n",
    "start=611\n",
    "for i in range(20):\n",
    "    a.append(start) \n",
    "    start=start+1\n",
    "\n",
    "print(a)\n",
    "\n",
    "for i in range(20):\n",
    "    a[i]='00'+str(a[i])+'/2022'\n",
    "print(a)\n",
    "\n",
    "serie=pd.Series(a)\n",
    "print(serie)\n",
    "\n",
    "serie.to_excel('numproy.xlsx')"
   ]
  }
 ],
 "metadata": {
  "interpreter": {
   "hash": "ad6b12db9c7b04535438dad122085103f41898ad3b6910f0c6189839f8043371"
  },
  "kernelspec": {
   "display_name": "Python 3.8.2 32-bit",
   "language": "python",
   "name": "python3"
  },
  "language_info": {
   "codemirror_mode": {
    "name": "ipython",
    "version": 3
   },
   "file_extension": ".py",
   "mimetype": "text/x-python",
   "name": "python",
   "nbconvert_exporter": "python",
   "pygments_lexer": "ipython3",
   "version": "3.8.2"
  },
  "orig_nbformat": 4
 },
 "nbformat": 4,
 "nbformat_minor": 2
}
